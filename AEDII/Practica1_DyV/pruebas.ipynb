{
 "cells": [
  {
   "cell_type": "markdown",
   "metadata": {},
   "source": [
    "# Prueba mediciones en python"
   ]
  },
  {
   "cell_type": "code",
   "execution_count": 79,
   "metadata": {},
   "outputs": [],
   "source": [
    "# Al instalar pandas se instala numpy\n",
    "try:\n",
    "    import pandas as pd\n",
    "    import numpy as np\n",
    "except ImportError:\n",
    "    from pip._internal import main as pip\n",
    "    pip(['install', '--user', 'pandas'])\n",
    "    import pandas as pd\n",
    "    import numpy as np\n",
    "    \n",
    "#Es\n",
    "try:\n",
    "    import matplotlib.pyplot as plt\n",
    "except ImportError:\n",
    "    from pip._internal import main as pip\n",
    "    pip(['install', '--user', 'matplotlib'])\n",
    "    import matplotlib.pyplot as plt\n",
    "\n",
    "import random\n",
    "from math import sqrt"
   ]
  },
  {
   "cell_type": "markdown",
   "metadata": {},
   "source": [
    "###  Generador de letras aleatorias"
   ]
  },
  {
   "cell_type": "code",
   "execution_count": 80,
   "metadata": {},
   "outputs": [],
   "source": [
    "valor_a = ord('a')\n",
    "distancia_z_a = ord('z')-ord('a')\n",
    "\n",
    "\n",
    "def genera_letra():\n",
    "    import random\n",
    "    return chr(valor_a+random.randint(0, distancia_z_a))\n"
   ]
  },
  {
   "cell_type": "markdown",
   "metadata": {},
   "source": [
    "### Generador de ficheros de entrada"
   ]
  },
  {
   "cell_type": "code",
   "execution_count": 81,
   "metadata": {},
   "outputs": [],
   "source": [
    "\n",
    "def generate_inputfile(problem_length: int, inputfilename: str=\"in.txt\") -> None:\n",
    "    input_file = open(inputfilename, 'w')\n",
    "    prueba = \"\"\n",
    "    # Generamos las subcadenas del problema\n",
    "    for _ in range(3):\n",
    "        # Generamos cada subcadena con 3 letras de longitud\n",
    "        for _2 in range(3):\n",
    "            prueba += genera_letra()\n",
    "        # Escribimos la subcadena en el fichero de entrada\n",
    "        input_file.write(prueba+\"\\n\")\n",
    "        prueba = \"\"\n",
    "\n",
    "    for _ in range(problem_length):\n",
    "        prueba += genera_letra()\n",
    "    input_file.write(prueba)\n",
    "    input_file.close()\n"
   ]
  },
  {
   "cell_type": "markdown",
   "metadata": {},
   "source": [
    "## Intentando lanzar un programa c++ en python"
   ]
  },
  {
   "cell_type": "code",
   "execution_count": 82,
   "metadata": {},
   "outputs": [],
   "source": [
    "def ejecutar(nombre_entrada: str = \"in.txt\", nombre_salida: str = \"out.txt\", problema: str = \"it\"):\n",
    "    import subprocess\n",
    "    import time\n",
    "    import datetime\n",
    "    \n",
    "    fichero_entrada = open(nombre_entrada, \"r\")\n",
    "    fichero_salida = open(nombre_salida, \"w\")\n",
    "    # Obtener inicio de ejecución\n",
    "\n",
    "    #tiempo_inicio = time.process_time()\n",
    "    tiempo_inicio = datetime.time.now()\n",
    "    # Ejecutar proceso\n",
    "    proc = subprocess.Popen([\"./solucion\", problema], stdin=fichero_entrada, stdout=fichero_salida)    \n",
    "    proc.wait()\n",
    "    # Obtener final de ejecución\n",
    "    #tiempo_final = time.process_time()\n",
    "    tiempo_final = datetime.time.now()\n",
    "    \n",
    "    # Cerrar ficheros de i/o\n",
    "    fichero_entrada.close()\n",
    "    fichero_salida.close()\n",
    "    \n",
    "    return (tiempo_final-tiempo_inicio)*1000\n"
   ]
  },
  {
   "cell_type": "code",
   "execution_count": 83,
   "metadata": {},
   "outputs": [],
   "source": [
    "import time\n",
    "it_out = \"iterativa.txt\"\n",
    "dyv_out = \"dyv.txt\"\n",
    "\n",
    "\n",
    "def tiempo_en_milis():\n",
    "    return round(time.time() * 1000)\n",
    "\n",
    "\n",
    "def pruebas(nombre_entrada: str = \"in.txt\", inicio: int = 100,\n",
    "            final: int = 10000, salto: int = 1) -> pd.DataFrame:\n",
    "    import subprocess\n",
    "    df: pd.DataFrame = pd.DataFrame(\n",
    "        columns=['tamanno', 'it_milis', 'dyv_milis'])\n",
    "\n",
    "    comp = open(\"comprobacion.txt\", \"w\")\n",
    "\n",
    "    proc = subprocess.Popen(\"make\")\n",
    "    proc.wait()\n",
    "\n",
    "    for i in range(inicio, final, salto):\n",
    "        tamanno = int(i)\n",
    "        generate_inputfile(tamanno, nombre_entrada)\n",
    "\n",
    "        tiempo_it = ejecutar(nombre_entrada, it_out, \"it\")\n",
    "        tiempo_dyv = ejecutar(nombre_entrada, dyv_out, \"dyv\")\n",
    "\n",
    "        df.loc[len(df)] = [int(tamanno), tiempo_it, tiempo_dyv]\n",
    "        print(int(tamanno), tiempo_it, tiempo_dyv)\n",
    "        proc = subprocess.Popen([\"diff\", it_out, dyv_out], stdout=comp)\n",
    "        proc.wait()\n",
    "        df.to_csv(\"cache.csv\")\n",
    "\n",
    "    comp.close()\n",
    "    return df\n"
   ]
  },
  {
   "attachments": {},
   "cell_type": "markdown",
   "metadata": {},
   "source": [
    "### Función que comprueba si ambas soluciones son iguales\n",
    "Esta funcion permite que se le proporcione un fichero de entrada, no lo valida de tener un error peta, o pedir que se genere, así como especificar el tamaño del problema. \n",
    "Utiliza meld para visualizar las diferencias."
   ]
  },
  {
   "cell_type": "code",
   "execution_count": 84,
   "metadata": {},
   "outputs": [],
   "source": [
    "\n",
    "def iguales(inputfile: str = \"in.txt\", tamanno:int = 10000, generar:bool = False) -> pd.DataFrame:\n",
    "    import subprocess\n",
    "    if generar:        \n",
    "        generate_inputfile(tamanno, inputfile)\n",
    "        \n",
    "    ejecutar(input_filename=inputfile, problema=\"it\", output_filename=\"iterativa.txt\")    \n",
    "    ejecutar(input_filename=inputfile, problema=\"dyv\", output_filename=\"divideyvenceras.txt\")\n",
    "    # Meld compara salidas de forma grafica\n",
    "    proc = subprocess.Popen([\"meld\", \"iterativa.txt\", \"divideyvenceras.txt\"])\n"
   ]
  },
  {
   "cell_type": "code",
   "execution_count": 85,
   "metadata": {},
   "outputs": [
    {
     "name": "stdout",
     "output_type": "stream",
     "text": [
      "make: 'solucion' is up to date.\n"
     ]
    },
    {
     "ename": "AttributeError",
     "evalue": "type object 'datetime.time' has no attribute 'now'",
     "output_type": "error",
     "traceback": [
      "\u001b[0;31m---------------------------------------------------------------------------\u001b[0m",
      "\u001b[0;31mAttributeError\u001b[0m                            Traceback (most recent call last)",
      "Cell \u001b[0;32mIn[85], line 1\u001b[0m\n\u001b[0;32m----> 1\u001b[0m df \u001b[39m=\u001b[39m pruebas(\u001b[39m\"\u001b[39;49m\u001b[39min.txt\u001b[39;49m\u001b[39m\"\u001b[39;49m,\u001b[39m10\u001b[39;49m\u001b[39m*\u001b[39;49m\u001b[39m*\u001b[39;49m\u001b[39m0\u001b[39;49m,\u001b[39m10\u001b[39;49m\u001b[39m*\u001b[39;49m\u001b[39m*\u001b[39;49m\u001b[39m6\u001b[39;49m,\u001b[39m10\u001b[39;49m\u001b[39m*\u001b[39;49m\u001b[39m*\u001b[39;49m\u001b[39m3\u001b[39;49m)\n\u001b[1;32m      2\u001b[0m df\u001b[39m.\u001b[39mset_index(\u001b[39m'\u001b[39m\u001b[39mtamanno\u001b[39m\u001b[39m'\u001b[39m,inplace\u001b[39m=\u001b[39m\u001b[39mTrue\u001b[39;00m)\n\u001b[1;32m      3\u001b[0m df\u001b[39m.\u001b[39mto_csv(\u001b[39m\"\u001b[39m\u001b[39mpruebad_10_to_1000.csv\u001b[39m\u001b[39m\"\u001b[39m)\n",
      "Cell \u001b[0;32mIn[83], line 19\u001b[0m, in \u001b[0;36mpruebas\u001b[0;34m(nombre_entrada, inicio, final, salto)\u001b[0m\n\u001b[1;32m     16\u001b[0m tamanno \u001b[39m=\u001b[39m \u001b[39mint\u001b[39m(i)\n\u001b[1;32m     17\u001b[0m generate_inputfile(tamanno, nombre_entrada)\n\u001b[0;32m---> 19\u001b[0m tiempo_it \u001b[39m=\u001b[39m ejecutar(nombre_entrada, it_out, \u001b[39m\"\u001b[39;49m\u001b[39mit\u001b[39;49m\u001b[39m\"\u001b[39;49m)\n\u001b[1;32m     20\u001b[0m tiempo_dyv \u001b[39m=\u001b[39m ejecutar(nombre_entrada, dyv_out, \u001b[39m\"\u001b[39m\u001b[39mdyv\u001b[39m\u001b[39m\"\u001b[39m)\n\u001b[1;32m     22\u001b[0m df\u001b[39m.\u001b[39mloc[\u001b[39mlen\u001b[39m(df)] \u001b[39m=\u001b[39m [\u001b[39mint\u001b[39m(tamanno), tiempo_it, tiempo_dyv]\n",
      "Cell \u001b[0;32mIn[82], line 11\u001b[0m, in \u001b[0;36mejecutar\u001b[0;34m(nombre_entrada, nombre_salida, problema)\u001b[0m\n\u001b[1;32m      7\u001b[0m fichero_salida \u001b[39m=\u001b[39m \u001b[39mopen\u001b[39m(nombre_salida, \u001b[39m\"\u001b[39m\u001b[39mw\u001b[39m\u001b[39m\"\u001b[39m)\n\u001b[1;32m      8\u001b[0m \u001b[39m# Obtener inicio de ejecución\u001b[39;00m\n\u001b[1;32m      9\u001b[0m \n\u001b[1;32m     10\u001b[0m \u001b[39m#tiempo_inicio = time.process_time()\u001b[39;00m\n\u001b[0;32m---> 11\u001b[0m tiempo_inicio \u001b[39m=\u001b[39m datetime\u001b[39m.\u001b[39;49mtime\u001b[39m.\u001b[39;49mnow()\n\u001b[1;32m     12\u001b[0m \u001b[39m# Ejecutar proceso\u001b[39;00m\n\u001b[1;32m     13\u001b[0m proc \u001b[39m=\u001b[39m subprocess\u001b[39m.\u001b[39mPopen([\u001b[39m\"\u001b[39m\u001b[39m./solucion\u001b[39m\u001b[39m\"\u001b[39m, problema], stdin\u001b[39m=\u001b[39mfichero_entrada, stdout\u001b[39m=\u001b[39mfichero_salida)    \n",
      "\u001b[0;31mAttributeError\u001b[0m: type object 'datetime.time' has no attribute 'now'"
     ]
    }
   ],
   "source": [
    "df = pruebas(\"in.txt\",10**0,10**6,10**3)\n",
    "df.set_index('tamanno',inplace=True)\n",
    "df.to_csv(\"pruebad_10_to_1000.csv\")"
   ]
  },
  {
   "cell_type": "code",
   "execution_count": null,
   "metadata": {},
   "outputs": [],
   "source": [
    "#df = pruebas(\"in.txt\",10**6, 10**7, 10**3)"
   ]
  },
  {
   "cell_type": "code",
   "execution_count": null,
   "metadata": {},
   "outputs": [
    {
     "data": {
      "text/plain": [
       "[1000, 10000, 100]"
      ]
     },
     "execution_count": 67,
     "metadata": {},
     "output_type": "execute_result"
    }
   ],
   "source": [
    "[10**3, 10**4, 10**2]"
   ]
  },
  {
   "cell_type": "code",
   "execution_count": null,
   "metadata": {},
   "outputs": [],
   "source": [
    "df.set_index('tamanno',inplace=True)\n",
    "df.to_csv(\"pruebas1.csv\")"
   ]
  },
  {
   "cell_type": "code",
   "execution_count": null,
   "metadata": {},
   "outputs": [
    {
     "data": {
      "text/html": [
       "<div>\n",
       "<style scoped>\n",
       "    .dataframe tbody tr th:only-of-type {\n",
       "        vertical-align: middle;\n",
       "    }\n",
       "\n",
       "    .dataframe tbody tr th {\n",
       "        vertical-align: top;\n",
       "    }\n",
       "\n",
       "    .dataframe thead th {\n",
       "        text-align: right;\n",
       "    }\n",
       "</style>\n",
       "<table border=\"1\" class=\"dataframe\">\n",
       "  <thead>\n",
       "    <tr style=\"text-align: right;\">\n",
       "      <th></th>\n",
       "      <th>it_milis</th>\n",
       "      <th>dyv_milis</th>\n",
       "    </tr>\n",
       "    <tr>\n",
       "      <th>tamanno</th>\n",
       "      <th></th>\n",
       "      <th></th>\n",
       "    </tr>\n",
       "  </thead>\n",
       "  <tbody>\n",
       "    <tr>\n",
       "      <th>10.0</th>\n",
       "      <td>1.128661</td>\n",
       "      <td>0.985848</td>\n",
       "    </tr>\n",
       "    <tr>\n",
       "      <th>1010.0</th>\n",
       "      <td>1.039746</td>\n",
       "      <td>0.997440</td>\n",
       "    </tr>\n",
       "    <tr>\n",
       "      <th>2010.0</th>\n",
       "      <td>1.383340</td>\n",
       "      <td>1.175374</td>\n",
       "    </tr>\n",
       "    <tr>\n",
       "      <th>3010.0</th>\n",
       "      <td>1.207123</td>\n",
       "      <td>1.148296</td>\n",
       "    </tr>\n",
       "    <tr>\n",
       "      <th>4010.0</th>\n",
       "      <td>3.655709</td>\n",
       "      <td>1.116710</td>\n",
       "    </tr>\n",
       "    <tr>\n",
       "      <th>5010.0</th>\n",
       "      <td>1.136397</td>\n",
       "      <td>1.424107</td>\n",
       "    </tr>\n",
       "    <tr>\n",
       "      <th>6010.0</th>\n",
       "      <td>1.221863</td>\n",
       "      <td>1.049780</td>\n",
       "    </tr>\n",
       "    <tr>\n",
       "      <th>7010.0</th>\n",
       "      <td>1.182373</td>\n",
       "      <td>1.033973</td>\n",
       "    </tr>\n",
       "    <tr>\n",
       "      <th>8010.0</th>\n",
       "      <td>1.132325</td>\n",
       "      <td>1.114243</td>\n",
       "    </tr>\n",
       "    <tr>\n",
       "      <th>9010.0</th>\n",
       "      <td>1.334411</td>\n",
       "      <td>1.194921</td>\n",
       "    </tr>\n",
       "  </tbody>\n",
       "</table>\n",
       "</div>"
      ],
      "text/plain": [
       "         it_milis  dyv_milis\n",
       "tamanno                     \n",
       "10.0     1.128661   0.985848\n",
       "1010.0   1.039746   0.997440\n",
       "2010.0   1.383340   1.175374\n",
       "3010.0   1.207123   1.148296\n",
       "4010.0   3.655709   1.116710\n",
       "5010.0   1.136397   1.424107\n",
       "6010.0   1.221863   1.049780\n",
       "7010.0   1.182373   1.033973\n",
       "8010.0   1.132325   1.114243\n",
       "9010.0   1.334411   1.194921"
      ]
     },
     "execution_count": 69,
     "metadata": {},
     "output_type": "execute_result"
    }
   ],
   "source": [
    "df"
   ]
  },
  {
   "cell_type": "code",
   "execution_count": null,
   "metadata": {},
   "outputs": [
    {
     "data": {
      "text/plain": [
       "<Axes: xlabel='tamanno'>"
      ]
     },
     "execution_count": 70,
     "metadata": {},
     "output_type": "execute_result"
    },
    {
     "data": {
      "image/png": "[encoded data removed]",
      "text/plain": [
       "<Figure size 640x480 with 1 Axes>"
      ]
     },
     "metadata": {},
     "output_type": "display_data"
    }
   ],
   "source": [
    "df.plot()"
   ]
  }
 ],
 "metadata": {
  "kernelspec": {
   "display_name": "Python 3 (ipykernel)",
   "language": "python",
   "name": "python3"
  },
  "language_info": {
   "codemirror_mode": {
    "name": "ipython",
    "version": 3
   },
   "file_extension": ".py",
   "mimetype": "text/x-python",
   "name": "python",
   "nbconvert_exporter": "python",
   "pygments_lexer": "ipython3",
   "version": "3.10.6"
  },
  "vscode": {
   "interpreter": {
    "hash": "31f2aee4e71d21fbe5cf8b01ff0e069b9275f58929596ceb00d14d90e3e16cd6"
   }
  }
 },
 "nbformat": 4,
 "nbformat_minor": 2
}
