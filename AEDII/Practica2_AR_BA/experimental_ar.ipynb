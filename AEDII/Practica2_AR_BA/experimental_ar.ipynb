{
 "cells": [
  {
   "cell_type": "code",
   "execution_count": 1,
   "metadata": {},
   "outputs": [],
   "source": [
    "import pandas as pd \n",
    "import time\n",
    "import random\n",
    "import subprocess"
   ]
  },
  {
   "cell_type": "code",
   "execution_count": 24,
   "metadata": {},
   "outputs": [],
   "source": [
    "import pandas as pd\n",
    "\n",
    "def imprimeMatriz(dimensiones):\n",
    "    matriz = \"\"\n",
    "    for i in range(dimensiones-1):\n",
    "        for j in range(dimensiones-1):\n",
    "            if i == j:\n",
    "                matriz += str(0)\n",
    "            else:\n",
    "                matriz += str(random.randint(0,255))\n",
    "            \n",
    "            if j == dimensiones-1:                \n",
    "                matriz += \"\\n\"\n",
    "            else:\n",
    "                matriz += \" \"\n",
    "    return matriz\n",
    "\n",
    "def generar_input(dimensiones: int, subpoblaciones: int, inputfilename: str=\"in2.txt\") -> None:\n",
    "    input_file = open(inputfilename, 'w')\n",
    "    input_file.write(str(1)+\"\\n\")\n",
    "    input_file.write(str(dimensiones) + \" \" + str(subpoblaciones)+\"\\n\")\n",
    "    input_file.write(imprimeMatriz(dimensiones)+\"\\n\")                \n",
    "    input_file.close() \n",
    "    \n",
    "def ejecutar_programa(nombre_entrada: str, nombre_salida: str) -> None:\n",
    "    fichero_entrada = open(nombre_entrada, \"r\")\n",
    "    fichero_salida = open(nombre_salida, \"w\")\n",
    "    \n",
    "    tiempo_inicio = round(time.time() * 1000)\n",
    "    # Ejecutar proceso \n",
    "    proc = subprocess.Popen([\"./a.out\"], # Edita esto \n",
    "                            stdin=fichero_entrada, stdout=fichero_salida)\n",
    "    proc.wait()\n",
    "    # Obtener final de ejecución\n",
    "    tiempo_final = round(time.time() * 1000)\n",
    "\n",
    "    # Cerrar ficheros de i/o\n",
    "    fichero_entrada.close()\n",
    "    fichero_salida.close()\n",
    "\n",
    "    return tiempo_final-tiempo_inicio\n",
    "    \n",
    "    \n",
    "\n",
    "def pruebas(n: int, nombre_entrada, nombre_salida: str, nombre_guardar: str, inicio: int = 4):\n",
    "    df: pd.DataFrame = pd.DataFrame(\n",
    "        columns=['dimensiones', 'subpoblaciones', 'tiempo_exec'])\n",
    "    for dimensiones in range(inicio, n+1):\n",
    "        for subpoblaciones in range(2, dimensiones+1, dimensiones//4):\n",
    "            generar_input(dimensiones, subpoblaciones, nombre_entrada)\n",
    "            tiempo = ejecutar_programa(nombre_entrada, nombre_salida)\n",
    "            print(dimensiones, subpoblaciones)\n",
    "            df.loc[len(df)] = [dimensiones, subpoblaciones, tiempo]\n",
    "\n",
    "    df.to_csv(nombre_guardar)"
   ]
  },
  {
   "cell_type": "code",
   "execution_count": 25,
   "metadata": {},
   "outputs": [
    {
     "data": {
      "text/plain": [
       "0"
      ]
     },
     "execution_count": 25,
     "metadata": {},
     "output_type": "execute_result"
    }
   ],
   "source": [
    "proc = subprocess.Popen([\"g++\", \"ar.cpp\"])\n",
    "proc.wait()"
   ]
  },
  {
   "cell_type": "code",
   "execution_count": 2,
   "metadata": {},
   "outputs": [],
   "source": [
    "# pruebas(200, \"in.txt\", \"out.txt\", \"save.csv\")"
   ]
  },
  {
   "cell_type": "code",
   "execution_count": 4,
   "metadata": {},
   "outputs": [],
   "source": [
    "def generar_input(dimensiones: int, inputfilename: str=\"in2.txt\") -> None:\n",
    "    input_file = open(inputfilename, 'w')\n",
    "    input_file.write(str(1)+\"\\n\")\n",
    "    input_file.write(str(dimensiones) + \"\\n\")\n",
    "    for i in range(dimensiones):\n",
    "        input_file.write(str(random.randint(0,255))+\"\\n\")        \n",
    "    input_file.write(\"\\n\")        \n",
    "    input_file.close() \n",
    "    \n",
    "def ejecutar_programa(nombre_entrada: str, nombre_salida: str) -> None:\n",
    "    fichero_entrada = open(nombre_entrada, \"r\")\n",
    "    fichero_salida = open(nombre_salida, \"w\")\n",
    "    \n",
    "    tiempo_inicio = round(time.time() * 1000)\n",
    "    # Ejecutar proceso \n",
    "    proc = subprocess.Popen([\"./a.out\"], # Edita esto \n",
    "                            stdin=fichero_entrada, stdout=fichero_salida)\n",
    "    proc.wait()\n",
    "    # Obtener final de ejecución\n",
    "    tiempo_final = round(time.time() * 1000)\n",
    "\n",
    "    # Cerrar ficheros de i/o\n",
    "    fichero_entrada.close()\n",
    "    fichero_salida.close()\n",
    "\n",
    "    return tiempo_final-tiempo_inicio\n",
    "    \n",
    "def pruebas(n: int, nombre_entrada, nombre_salida: str, nombre_guardar: str):\n",
    "    df: pd.DataFrame = pd.DataFrame(\n",
    "        columns=['dimensiones', 'tiempo_exec'])\n",
    "    for dimensiones in range(4, n+1):\n",
    "        generar_input(dimensiones, nombre_entrada)\n",
    "        tiempo = ejecutar_programa(nombre_entrada, nombre_salida)\n",
    "        print(dimensiones)\n",
    "        df.loc[len(df)] = [dimensiones, tiempo]\n",
    "        \n",
    "    df.to_csv(nombre_guardar)\n"
   ]
  },
  {
   "cell_type": "code",
   "execution_count": 5,
   "metadata": {
    "scrolled": true
   },
   "outputs": [
    {
     "name": "stdout",
     "output_type": "stream",
     "text": [
      "4\n",
      "5\n",
      "6\n",
      "7\n",
      "8\n",
      "9\n",
      "10\n",
      "11\n",
      "12\n",
      "13\n",
      "14\n",
      "15\n",
      "16\n",
      "17\n",
      "18\n",
      "19\n",
      "20\n",
      "21\n",
      "22\n",
      "23\n",
      "24\n",
      "25\n",
      "26\n",
      "27\n",
      "28\n",
      "29\n",
      "30\n"
     ]
    }
   ],
   "source": [
    "pruebas(30, \"in.txt\", \"out.txt\", \"save_back.csv\")"
   ]
  },
  {
   "cell_type": "code",
   "execution_count": null,
   "metadata": {},
   "outputs": [],
   "source": []
  }
 ],
 "metadata": {
  "kernelspec": {
   "display_name": "Python 3 (ipykernel)",
   "language": "python",
   "name": "python3"
  },
  "language_info": {
   "codemirror_mode": {
    "name": "ipython",
    "version": 3
   },
   "file_extension": ".py",
   "mimetype": "text/x-python",
   "name": "python",
   "nbconvert_exporter": "python",
   "pygments_lexer": "ipython3",
   "version": "3.10.11"
  }
 },
 "nbformat": 4,
 "nbformat_minor": 4
}
